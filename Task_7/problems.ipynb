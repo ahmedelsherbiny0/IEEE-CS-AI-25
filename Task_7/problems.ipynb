{
 "cells": [
  {
   "cell_type": "markdown",
   "metadata": {},
   "source": [
    "##### Write a Python function that takes in a list of values and returns the probability distribution of those values. Assume the values are discrete."
   ]
  },
  {
   "cell_type": "code",
   "execution_count": 1,
   "metadata": {},
   "outputs": [
    {
     "name": "stdout",
     "output_type": "stream",
     "text": [
      "{1: 0.5, 2: 0.5}\n"
     ]
    }
   ],
   "source": [
    "inp = input(\"Enter numbers separated by spaces: \")\n",
    "user_list = list(map(int, inp.split()))\n",
    "\n",
    "freq_dict = {}\n",
    "\n",
    "for num in user_list:\n",
    "    freq_dict[num] = freq_dict.get(num, 0) + 1\n",
    "\n",
    "for num in freq_dict.keys():\n",
    "    freq_dict[num] /= len(user_list)\n",
    "\n",
    "print(freq_dict)"
   ]
  },
  {
   "cell_type": "markdown",
   "metadata": {},
   "source": [
    "##### Write a Python function that calculates the conditional probability of event B given event A, given two lists of events A and B."
   ]
  },
  {
   "cell_type": "code",
   "execution_count": 3,
   "metadata": {},
   "outputs": [
    {
     "name": "stdout",
     "output_type": "stream",
     "text": [
      "P(B|A) = 0.6666666666666666\n"
     ]
    }
   ],
   "source": [
    "def conditional_probability(A, B):\n",
    "    count_A = sum(A)\n",
    "\n",
    "    if count_A == 0:\n",
    "        return 0 \n",
    "    \n",
    "    # This counts the number of times both events A and B occur simultaneously\n",
    "    count_A_and_B = sum(a and b for a, b in zip(A, B)) \n",
    "\n",
    "    P_B_given_A = count_A_and_B / count_A\n",
    "\n",
    "    return P_B_given_A\n",
    "\n",
    "A = [1, 0, 1, 0, 1]\n",
    "B = [1, 1, 0, 0, 1]\n",
    "\n",
    "result = conditional_probability(A, B)\n",
    "print(f\"P(B|A) = {result}\")"
   ]
  },
  {
   "cell_type": "markdown",
   "metadata": {},
   "source": [
    "##### Write a Python function that implements Bayes' theorem to calculate the probability of event A given event B, given the prior probability of A and B, and the conditional probability of B given A."
   ]
  },
  {
   "cell_type": "code",
   "execution_count": 5,
   "metadata": {},
   "outputs": [
    {
     "name": "stdout",
     "output_type": "stream",
     "text": [
      "0.4\n"
     ]
    }
   ],
   "source": [
    "def Bayes(prior_a, prior_b, conditional_b_given_a):\n",
    "    return conditional_b_given_a * prior_a / prior_b\n",
    "\n",
    "prior_a = 0.3\n",
    "prior_b = 0.6\n",
    "conditional_b_given_a = 0.8\n",
    "\n",
    "print(Bayes(prior_a, prior_b, conditional_b_given_a))"
   ]
  }
 ],
 "metadata": {
  "kernelspec": {
   "display_name": "Python 3",
   "language": "python",
   "name": "python3"
  },
  "language_info": {
   "codemirror_mode": {
    "name": "ipython",
    "version": 3
   },
   "file_extension": ".py",
   "mimetype": "text/x-python",
   "name": "python",
   "nbconvert_exporter": "python",
   "pygments_lexer": "ipython3",
   "version": "3.13.2"
  }
 },
 "nbformat": 4,
 "nbformat_minor": 2
}
