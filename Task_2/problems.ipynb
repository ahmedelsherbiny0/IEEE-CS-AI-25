{
 "cells": [
  {
   "cell_type": "markdown",
   "metadata": {},
   "source": [
    "## Problem 1"
   ]
  },
  {
   "cell_type": "code",
   "execution_count": null,
   "metadata": {},
   "outputs": [],
   "source": [
    "students = []\n",
    "\n",
    "if __name__ == '__main__':\n",
    "    for _ in range(int(input())):\n",
    "        name = input()\n",
    "        score = float(input())\n",
    "        students.append([name, score])\n",
    "    \n",
    "    scores = sorted(set([score for name, score in students]))\n",
    "    ndscore = scores[1] \n",
    "    \n",
    "    result = sorted([name for name, score in students if score == ndscore])\n",
    "    \n",
    "    for name in result:\n",
    "        print(name)"
   ]
  },
  {
   "cell_type": "markdown",
   "metadata": {},
   "source": [
    "## Problem 2"
   ]
  },
  {
   "cell_type": "code",
   "execution_count": 3,
   "metadata": {},
   "outputs": [
    {
     "name": "stdout",
     "output_type": "stream",
     "text": [
      "5\n"
     ]
    }
   ],
   "source": [
    "if __name__ == '__main__':\n",
    "    n = int(input())\n",
    "    arr = list(map(int, input().split()))\n",
    "    arr.sort(reverse=True)\n",
    "    i = 0\n",
    "    while True:\n",
    "        if arr[i] == arr[i+1]:\n",
    "            i += 1\n",
    "        else:\n",
    "            print(arr[i+1])\n",
    "            break\n"
   ]
  },
  {
   "cell_type": "markdown",
   "metadata": {},
   "source": [
    "## Problem 3"
   ]
  },
  {
   "cell_type": "code",
   "execution_count": null,
   "metadata": {},
   "outputs": [],
   "source": [
    "if __name__ == '__main__':\n",
    "    n = int(input())\n",
    "    arr = []\n",
    "    for i in range(n):\n",
    "        command = input(\"\")\n",
    "        command = command.split(\" \")\n",
    "        cmd = command[0]\n",
    "        if cmd == \"insert\":\n",
    "            arr.insert(int(command[1]), int(command[2]))\n",
    "        elif cmd == \"print\":\n",
    "            print(arr)\n",
    "        elif cmd == \"remove\":\n",
    "            arr.remove(int(command[1]))\n",
    "        elif cmd == \"append\":\n",
    "            arr.append(int(command[1]))\n",
    "        elif cmd == \"sort\":\n",
    "            arr.sort()\n",
    "        elif cmd == \"pop\":\n",
    "            arr.pop()\n",
    "        else:\n",
    "            arr.sort(reverse=True)"
   ]
  },
  {
   "cell_type": "markdown",
   "metadata": {},
   "source": [
    "## Problem 4"
   ]
  },
  {
   "cell_type": "code",
   "execution_count": null,
   "metadata": {},
   "outputs": [],
   "source": [
    "library_catalogue = {\n",
    "    \"123-456\": {\n",
    "        \"title\": \"Hello\",\n",
    "        \"author\": \"Ahmed\",\n",
    "        \"year\": 2020\n",
    "    },\n",
    "    \"456-123\": {\n",
    "        \"title\": \"World\",\n",
    "        \"author\": \"Mohamed\",\n",
    "        \"year\": 2021\n",
    "    },\n",
    "    \"789-456\": {\n",
    "        \"title\": \"From\",\n",
    "        \"author\": \"Ahmdeen\",\n",
    "        \"year\": 2022\n",
    "    },\n",
    "    \"456-789\": {\n",
    "        \"title\": \"Python\",\n",
    "        \"author\": \"Hamada\",\n",
    "        \"year\": 2023\n",
    "    }\n",
    "}"
   ]
  },
  {
   "cell_type": "markdown",
   "metadata": {},
   "source": [
    "## Problem 5"
   ]
  },
  {
   "cell_type": "code",
   "execution_count": null,
   "metadata": {},
   "outputs": [],
   "source": [
    "file = open(\"text_5.txt\", \"r\")\n",
    "text = file.read().split()\n",
    "\n",
    "words_counter = {}\n",
    "\n",
    "for word in text:\n",
    "    if word in words_counter.keys():\n",
    "        words_counter[word] += 1\n",
    "    else:\n",
    "        words_counter[word] = 1\n",
    "\n",
    "for key, value in words_counter.items():\n",
    "    print(f\"{key:12}: {value}\")"
   ]
  },
  {
   "cell_type": "markdown",
   "metadata": {},
   "source": [
    "## Problem 6"
   ]
  },
  {
   "cell_type": "code",
   "execution_count": null,
   "metadata": {},
   "outputs": [],
   "source": [
    "import string\n",
    "import random\n",
    "\n",
    "chars = list(string.ascii_letters + string.digits)\n",
    "random.shuffle(chars)\n",
    "password = []\n",
    "for i in range(8):\n",
    "    password.append(random.choice(chars))\n",
    "\n",
    "print(\"\".join(password))"
   ]
  },
  {
   "cell_type": "markdown",
   "metadata": {},
   "source": [
    "## Problem 7"
   ]
  },
  {
   "cell_type": "code",
   "execution_count": null,
   "metadata": {},
   "outputs": [],
   "source": [
    "def common_elements(set1: set[int], set2: set[int]) -> set[int]:\n",
    "    newset: set[int] = set()\n",
    "    for num in set1:\n",
    "        if num in set2:\n",
    "            newset.add(num)\n",
    "\n",
    "    return newset\n",
    "\n",
    "set1 = {1, 2, 3, 4}\n",
    "set2 = {3, 4, 5, 6}\n",
    "\n",
    "print(common_elements(set1, set2))"
   ]
  },
  {
   "cell_type": "markdown",
   "metadata": {},
   "source": [
    "## Problem 8"
   ]
  },
  {
   "cell_type": "code",
   "execution_count": null,
   "metadata": {},
   "outputs": [],
   "source": [
    "import random \n",
    "\n",
    "num = random.randint(1, 100)\n",
    "flag = False\n",
    "\n",
    "for i in range(5):\n",
    "    guess = int(input(\"Enter number:\"))\n",
    "    if guess == num:\n",
    "        print(f\"You guessed the number {num} correctly!\")\n",
    "        flag = True\n",
    "        break\n",
    "    elif num < guess:\n",
    "        print(\"No, the number is less than your guessed number!\")\n",
    "    elif num > guess:\n",
    "        print(\"No, the number is greater than your guessed number!\")\n",
    "\n",
    "if not flag:\n",
    "    print(f\"The number is {num}\")"
   ]
  }
 ],
 "metadata": {
  "kernelspec": {
   "display_name": "Python 3",
   "language": "python",
   "name": "python3"
  },
  "language_info": {
   "codemirror_mode": {
    "name": "ipython",
    "version": 3
   },
   "file_extension": ".py",
   "mimetype": "text/x-python",
   "name": "python",
   "nbconvert_exporter": "python",
   "pygments_lexer": "ipython3",
   "version": "3.13.1"
  }
 },
 "nbformat": 4,
 "nbformat_minor": 2
}
