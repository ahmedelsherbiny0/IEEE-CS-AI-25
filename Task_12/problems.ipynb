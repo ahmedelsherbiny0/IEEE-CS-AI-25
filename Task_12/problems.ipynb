{
 "cells": [
  {
   "cell_type": "markdown",
   "id": "494dd488",
   "metadata": {},
   "source": [
    "### 1. Create a 3x3 array that contains a diagonal of nines."
   ]
  },
  {
   "cell_type": "code",
   "execution_count": 4,
   "id": "17ef810a",
   "metadata": {},
   "outputs": [
    {
     "name": "stdout",
     "output_type": "stream",
     "text": [
      "[[9 0 0]\n",
      " [0 9 0]\n",
      " [0 0 9]]\n",
      "[[9 0 0]\n",
      " [0 9 0]\n",
      " [0 0 9]]\n"
     ]
    }
   ],
   "source": [
    "import numpy as np\n",
    "\n",
    "np1 = np.array([[9, 0, 0],\n",
    "                [0, 9, 0], \n",
    "                [0, 0, 9]])\n",
    "print(np1)\n",
    "\n",
    "# OR\n",
    "\n",
    "np2 = np.diag([9, 9, 9])\n",
    "print(np2)"
   ]
  },
  {
   "cell_type": "markdown",
   "id": "9c929c69",
   "metadata": {},
   "source": [
    "### 2. Create a 4 x 4 ndarray that only contains consecutive even numbers from 2 to 32 (inclusive) and use Boolean indexing to pick out the values that are within 1/2 standard deviations of the mean."
   ]
  },
  {
   "cell_type": "code",
   "execution_count": 60,
   "id": "b8ca0f12",
   "metadata": {},
   "outputs": [
    {
     "name": "stdout",
     "output_type": "stream",
     "text": [
      "[[ 2  4  6  8]\n",
      " [10 12 14 16]\n",
      " [18 20 22 24]\n",
      " [26 28 30 32]]\n",
      "[[False False False False]\n",
      " [ True  True  True  True]\n",
      " [ True  True  True  True]\n",
      " [ True  True  True  True]]\n"
     ]
    }
   ],
   "source": [
    "import numpy as np\n",
    "\n",
    "np1 = np.arange(2, 33, 2).reshape((4, 4))\n",
    "std = np1.std()\n",
    "\n",
    "bool_np = np1 > std\n",
    "print(np1)\n",
    "print(bool_np)"
   ]
  },
  {
   "cell_type": "markdown",
   "id": "cc8bc57d",
   "metadata": {},
   "source": [
    "### 3. Create a 9x9 array that contains only zero of type int."
   ]
  },
  {
   "cell_type": "code",
   "execution_count": 59,
   "id": "a8daed88",
   "metadata": {},
   "outputs": [
    {
     "name": "stdout",
     "output_type": "stream",
     "text": [
      "[[0. 0. 0. 0. 0. 0. 0. 0. 0.]\n",
      " [0. 0. 0. 0. 0. 0. 0. 0. 0.]\n",
      " [0. 0. 0. 0. 0. 0. 0. 0. 0.]\n",
      " [0. 0. 0. 0. 0. 0. 0. 0. 0.]\n",
      " [0. 0. 0. 0. 0. 0. 0. 0. 0.]\n",
      " [0. 0. 0. 0. 0. 0. 0. 0. 0.]\n",
      " [0. 0. 0. 0. 0. 0. 0. 0. 0.]\n",
      " [0. 0. 0. 0. 0. 0. 0. 0. 0.]\n",
      " [0. 0. 0. 0. 0. 0. 0. 0. 0.]]\n"
     ]
    }
   ],
   "source": [
    "import numpy as np\n",
    "\n",
    "np1 = np.zeros((9, 9))\n",
    "print(np1)"
   ]
  },
  {
   "cell_type": "markdown",
   "id": "a2224934",
   "metadata": {},
   "source": [
    "### 4. Ask the user for a number n. Then, use broadcasting to create a n x n ndarray that has its first column full of ones, its second column full of twos, its third column full of threes, etc…"
   ]
  },
  {
   "cell_type": "code",
   "execution_count": 62,
   "id": "92d1b10d",
   "metadata": {},
   "outputs": [
    {
     "name": "stdout",
     "output_type": "stream",
     "text": [
      "[[ 1  2  3  4  5  6  7  8  9 10]\n",
      " [ 1  2  3  4  5  6  7  8  9 10]\n",
      " [ 1  2  3  4  5  6  7  8  9 10]\n",
      " [ 1  2  3  4  5  6  7  8  9 10]\n",
      " [ 1  2  3  4  5  6  7  8  9 10]\n",
      " [ 1  2  3  4  5  6  7  8  9 10]\n",
      " [ 1  2  3  4  5  6  7  8  9 10]\n",
      " [ 1  2  3  4  5  6  7  8  9 10]\n",
      " [ 1  2  3  4  5  6  7  8  9 10]\n",
      " [ 1  2  3  4  5  6  7  8  9 10]]\n"
     ]
    }
   ],
   "source": [
    "import numpy as np\n",
    "\n",
    "n = int(input())\n",
    "np1 = np.arange(1, n + 1)\n",
    "result = np.tile(np1, (n, 1))\n",
    "print(result)"
   ]
  },
  {
   "cell_type": "markdown",
   "id": "54b80cb0",
   "metadata": {},
   "source": [
    "### 5. A. Sereja and Dima \n",
    "https://codeforces.com/contest/381/problem/A"
   ]
  },
  {
   "cell_type": "code",
   "execution_count": 58,
   "id": "4d63a9c4",
   "metadata": {},
   "outputs": [
    {
     "name": "stdout",
     "output_type": "stream",
     "text": [
      "9 6\n"
     ]
    }
   ],
   "source": [
    "import numpy as np\n",
    "\n",
    "n = int(input())\n",
    "np1 = np.array(list(map(int, input().split())))\n",
    "\n",
    "i = 0\n",
    "j = n - 1\n",
    "serejaturn = True\n",
    "sereja = 0\n",
    "dima = 0\n",
    "\n",
    "while i <= j:\n",
    "    if np1[i] > np1[j]:\n",
    "        if serejaturn:\n",
    "            sereja += np1[i]\n",
    "        else:\n",
    "            dima += np1[i]\n",
    "        i += 1\n",
    "    else:\n",
    "        if serejaturn:\n",
    "            sereja += np1[j]\n",
    "        else:\n",
    "            dima += np1[j]\n",
    "        j -= 1\n",
    "    serejaturn = not serejaturn\n",
    "\n",
    "print(sereja, dima)    "
   ]
  },
  {
   "cell_type": "markdown",
   "id": "d276fa3e",
   "metadata": {},
   "source": [
    "### 6. A. Brain's Photos\n",
    "https://codeforces.com/contest/707/problem/A"
   ]
  },
  {
   "cell_type": "code",
   "execution_count": null,
   "id": "052cc875",
   "metadata": {},
   "outputs": [],
   "source": [
    "import numpy as np\n",
    "\n",
    "rows, cols = map(int, input().split())\n",
    "np1 = np.array([input().split() for _ in range(rows)])\n",
    "\n",
    "for row in np1:\n",
    "    if any(pixel in 'CMYG' for pixel in row):\n",
    "        print(\"#Color\")\n",
    "        break\n",
    "else:\n",
    "    print(\"#Black&White\")"
   ]
  }
 ],
 "metadata": {
  "kernelspec": {
   "display_name": "Python 3",
   "language": "python",
   "name": "python3"
  },
  "language_info": {
   "codemirror_mode": {
    "name": "ipython",
    "version": 3
   },
   "file_extension": ".py",
   "mimetype": "text/x-python",
   "name": "python",
   "nbconvert_exporter": "python",
   "pygments_lexer": "ipython3",
   "version": "3.11.3"
  }
 },
 "nbformat": 4,
 "nbformat_minor": 5
}
